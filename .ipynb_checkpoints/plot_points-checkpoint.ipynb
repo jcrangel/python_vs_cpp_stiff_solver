{
 "cells": [
  {
   "cell_type": "code",
   "execution_count": null,
   "metadata": {},
   "outputs": [],
   "source": [
    "import matplotlib.pyplot as plt\n",
    "import csv\n",
    "\n",
    "x = []\n",
    "y = []\n",
    "\n",
    "with open('points.txt','r') as csvfile:\n",
    "    plots = csv.reader(csvfile, delimiter=',')\n",
    "    for row in plots:\n",
    "        x.append(float(row[0]))\n",
    "        y.append(float(row[1]))\n",
    "data= \"\"\n",
    "#plt.figure(figsize=(8, 6), dpi=400)\n",
    "plt.plot(x,y,alpha=0.5,s=0.5)\n",
    "plt.xlabel(r't')\n",
    "plt.ylabel('T')\n",
    "plt.title('Tumor growth and therapy')\n",
    "#plt.legend(loc=1)\n",
    "# data= \"IC={H[0]==10^-4 /0.005,CTL[0]==10^-4/0.005,M[0]==0.1,Den[0]==0,IL2[0]==0}\\nUpper bound = 0.8 * Tumor carrying capacity \"\n",
    "# plt.figtext(0.5, 0.07, data, horizontalalignment='center',\n",
    "#             fontsize=9, multialignment='left',\n",
    "#             bbox=dict(boxstyle=\"round\", facecolor='#D8D8D8',\n",
    "#                       ec=\"0.5\", pad=0.5, alpha=1), fontweight='bold')\n",
    "plt.show()"
   ]
  }
 ],
 "metadata": {
  "kernelspec": {
   "display_name": "Python 2",
   "language": "python",
   "name": "python2"
  },
  "language_info": {
   "codemirror_mode": {
    "name": "ipython",
    "version": 2
   },
   "file_extension": ".py",
   "mimetype": "text/x-python",
   "name": "python",
   "nbconvert_exporter": "python",
   "pygments_lexer": "ipython2",
   "version": "2.7.5"
  }
 },
 "nbformat": 4,
 "nbformat_minor": 2
}
